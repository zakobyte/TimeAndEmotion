{
 "metadata": {
  "name": ""
 },
 "nbformat": 3,
 "nbformat_minor": 0,
 "worksheets": [
  {
   "cells": [
    {
     "cell_type": "markdown",
     "metadata": {},
     "source": [
      "Welcome to the Time and Emotion Minimum Viable Product\n",
      "\n",
      "We will walk through the steps to parse and aggregate some of the new timesheets that we suggest knowlege workers should use to improve their lot.\n",
      "\n",
      "BEFORE running the code you need to find the location that this notebook is stored to and then create 2 subfolders: logs and html\n",
      "\n",
      "Copy the timesheet examples to the logs folder.\n",
      "\n",
      "Copy the html snippets to the html folder."
     ]
    },
    {
     "cell_type": "code",
     "collapsed": false,
     "input": [
      "import os\n",
      "import pandas as pd\n",
      "import webbrowser\n",
      "\n",
      "DATA_IN = 'logs'\n",
      "HTML_IN = 'html'\n",
      "HEADER = 'html/chord_header.html'\n",
      "FOOTER = 'html/chord_footer.html'\n",
      "FILE_OUT = 'html/chord_gen.html'\n",
      "\n",
      "KEY_ERROR = 'Bad Key reported'\n",
      "\n",
      "START_COL = 8\n",
      "FINISH_COL = 9\n",
      "COLUMN_NAMES = ['Priority', 'Description', 'Deadline', 'StartTime', 'EndTime', 'Duration', 'Project', 'Filler_1',\n",
      "                'StartState', 'FinishState', 'Learn_Apply', 'Attention', 'Source', 'Notes', 'Reflection']\n",
      "\n",
      "SHEET_NAMES = ('Monday', 'Tuesday', 'Wednesday', 'Thursday', 'Friday')\n",
      "FLOW_STATES = ['Annoyed', 'Anxiety', 'Attentive', 'Bored', 'Flow', 'Panic', 'Puzzled', 'Relaxed']"
     ],
     "language": "python",
     "metadata": {},
     "outputs": [],
     "prompt_number": 7
    },
    {
     "cell_type": "markdown",
     "metadata": {},
     "source": [
      "Lets Parse the files\n",
      "\n",
      "Use the location specified in DATA_IN, above, for the log files\n"
     ]
    },
    {
     "cell_type": "code",
     "collapsed": false,
     "input": [
      "df_total = pd.DataFrame(columns=COLUMN_NAMES)\n",
      "\n",
      "for root_folder, dirs, files in os.walk(DATA_IN):\n",
      "    for file_name in files:\n",
      "        if '~' != file_name[0]:\n",
      "            xlfile = pd.ExcelFile(os.path.join(DATA_IN, file_name))\n",
      "            sheet_names = xlfile.sheet_names\n",
      "\n",
      "            for sheet_name in sheet_names:\n",
      "                if sheet_name in SHEET_NAMES:\n",
      "                    df = xlfile.parse(sheet_name)\n",
      "                    if (len(df.columns)) != 15:\n",
      "                        print '% s %s %d' % (file_name, sheet_name, len(df.columns))\n",
      "\n",
      "                    df.columns = COLUMN_NAMES\n",
      "                    # TODO ensure the datetime columns are the correct format\n",
      "                    # TODO calculate the timestamps using the filename and appropriate times\n",
      "\n",
      "                    try:\n",
      "                        df_total = pd.concat([df_total, df[(df.ix[:, 8].isin(FLOW_STATES) & df.ix[:, 9]\n",
      "                                                      .isin(FLOW_STATES))]])\n",
      "                    except KeyError:\n",
      "                        print '%s %s %s ' % (KEY_ERROR, file_name, sheet_name)\n",
      "\n",
      "s_temp = df_total.groupby([df_total.FinishState, df_total.StartState], as_index=False).size()\n",
      "\n",
      "df_chord = s_temp.unstack().fillna(0)\n",
      "\n",
      "# Add any missing columns\n",
      "for col_name in FLOW_STATES:\n",
      "    if col_name not in df_chord.columns:\n",
      "        df_chord.insert(FLOW_STATES.index(col_name), col_name, 0)\n",
      "\n",
      "print df_chord"
     ],
     "language": "python",
     "metadata": {},
     "outputs": [
      {
       "output_type": "stream",
       "stream": "stdout",
       "text": [
        "StartState   Annoyed  Anxiety  Attentive  Bored  Flow  Panic  Puzzled  Relaxed\n",
        "FinishState                                                                   \n",
        "Annoyed            7        2          6      1     0      0        2        5\n",
        "Anxiety            0        4          1      1     0      0        3        3\n",
        "Attentive          1        4         77      1     0      0        6        3\n",
        "Bored              1        0          4     14     0      0        0        8\n",
        "Flow               0        0          5      1     3      0        0        8\n",
        "Panic              0        1          0      0     0      0        0        0\n",
        "Puzzled            0        2          2      1     0      0        3        0\n",
        "Relaxed            1        1         21      1     0      0       10       58\n"
       ]
      }
     ],
     "prompt_number": 8
    },
    {
     "cell_type": "markdown",
     "metadata": {},
     "source": [
      "Build the chord diagram"
     ]
    },
    {
     "cell_type": "code",
     "collapsed": false,
     "input": [
      "s_data = str((df_chord.as_matrix()))\n",
      "\n",
      "s_data = s_data.replace('.', ',')\n",
      "s_data = s_data.replace(',]', '],', 7)\n",
      "s_data = s_data.replace(',]]', ']]')\n",
      "\n",
      "content = open(HEADER).read()\n",
      "content += 'var matrix = %s;' % s_data\n",
      "content += open(FOOTER).read()\n",
      "\n",
      "fout = open(FILE_OUT, 'w')\n",
      "fout.write(content)\n",
      "fout.flush()\n",
      "fout.close()\n",
      "\n",
      "path = os.path.abspath(FILE_OUT)\n",
      "url = 'file://' + path\n",
      "\n",
      "with open(path, 'w') as f:\n",
      "    f.write(content)\n",
      "    webbrowser.open(url)"
     ],
     "language": "python",
     "metadata": {},
     "outputs": [],
     "prompt_number": 9
    }
   ],
   "metadata": {}
  }
 ]
}